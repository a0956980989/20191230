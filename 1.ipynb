{
 "cells": [
  {
   "cell_type": "code",
   "execution_count": 39,
   "metadata": {},
   "outputs": [
    {
     "name": "stdout",
     "output_type": "stream",
     "text": [
      "Yes\n"
     ]
    }
   ],
   "source": [
    "# check if string is binary string or not.\n",
    "def check(string) : \n",
    "\n",
    "    p = set(string) \n",
    "    s = {'0', '1'} \n",
    "\n",
    "    if s == p or p == {'0'} or p == {'1'}: \n",
    "        print(\"Yes\") \n",
    "    else : \n",
    "        print(\"No\") \n",
    "\n",
    "if __name__ == \"__main__\" :  \n",
    "    string = \"101010000111\"\n",
    "    check(string) "
   ]
  }
 ],
 "metadata": {
  "kernelspec": {
   "display_name": "Python 3",
   "language": "python",
   "name": "python3"
  },
  "language_info": {
   "codemirror_mode": {
    "name": "ipython",
    "version": 3
   },
   "file_extension": ".py",
   "mimetype": "text/x-python",
   "name": "python",
   "nbconvert_exporter": "python",
   "pygments_lexer": "ipython3",
   "version": "3.6.4"
  }
 },
 "nbformat": 4,
 "nbformat_minor": 2
}
