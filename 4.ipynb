{
 "cells": [
  {
   "cell_type": "code",
   "execution_count": 44,
   "metadata": {},
   "outputs": [
    {
     "name": "stdout",
     "output_type": "stream",
     "text": [
      "Accepted\n"
     ]
    }
   ],
   "source": [
    "# accept words with all the vowels.\n",
    "def check(string) : \n",
    "\n",
    "    vowels = set(\"aeiou\") \n",
    "\n",
    "    s = set({}) \n",
    "    for char in string : \n",
    "        if char in vowels : \n",
    "            s.add(char) \n",
    "        else: \n",
    "            pass\n",
    " \n",
    "    if len(s) == len(vowels) : \n",
    "        print(\"Accepted\") \n",
    "    else : \n",
    "        print(\"Not Accepted\") \n",
    "\n",
    "if __name__ == \"__main__\" : \n",
    "      \n",
    "    string = \"SEEquoiaL\"\n",
    "    string = string.lower() \n",
    "    check(string) "
   ]
  }
 ],
 "metadata": {
  "kernelspec": {
   "display_name": "Python 3",
   "language": "python",
   "name": "python3"
  },
  "language_info": {
   "codemirror_mode": {
    "name": "ipython",
    "version": 3
   },
   "file_extension": ".py",
   "mimetype": "text/x-python",
   "name": "python",
   "nbconvert_exporter": "python",
   "pygments_lexer": "ipython3",
   "version": "3.6.4"
  }
 },
 "nbformat": 4,
 "nbformat_minor": 2
}
