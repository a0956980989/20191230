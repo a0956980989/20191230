{
 "cells": [
  {
   "cell_type": "code",
   "execution_count": 43,
   "metadata": {},
   "outputs": [
    {
     "name": "stdout",
     "output_type": "stream",
     "text": [
      "Urls:  ['https://auth.geeksforgeeks.org/ user / Chinmoy % 20Lenka / articles in the portal of http://www.geeksforgeeks.org/']\n"
     ]
    }
   ],
   "source": [
    "# find url in string\n",
    "import re \n",
    "  \n",
    "def Find(string): \n",
    "    url = re.findall('http[s]?://(?:[a-zA-Z]|[0-9]|[$-_@.&+]|[!*\\(\\), ]|(?:%[0-9a-fA-F][0-9a-fA-F]))+', string) \n",
    "    return url \n",
    "      \n",
    "string = 'My Profile: https://auth.geeksforgeeks.org/ user / Chinmoy % 20Lenka / articles in the portal of http://www.geeksforgeeks.org/' \n",
    "print(\"Urls: \", Find(string)) "
   ]
  }
 ],
 "metadata": {
  "kernelspec": {
   "display_name": "Python 3",
   "language": "python",
   "name": "python3"
  },
  "language_info": {
   "codemirror_mode": {
    "name": "ipython",
    "version": 3
   },
   "file_extension": ".py",
   "mimetype": "text/x-python",
   "name": "python",
   "nbconvert_exporter": "python",
   "pygments_lexer": "ipython3",
   "version": "3.6.4"
  }
 },
 "nbformat": 4,
 "nbformat_minor": 2
}
